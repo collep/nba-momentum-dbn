{
 "cells": [
  {
   "cell_type": "code",
   "execution_count": 1,
   "metadata": {
    "collapsed": true,
    "ExecuteTime": {
     "end_time": "2025-05-24T17:39:28.067905Z",
     "start_time": "2025-05-24T17:39:25.558279Z"
    }
   },
   "outputs": [],
   "source": [
    "import python.dbn_inference as infer"
   ]
  },
  {
   "cell_type": "markdown",
   "source": [
    "# Find All Possible Inference Variables and Levels"
   ],
   "metadata": {
    "collapsed": false
   }
  },
  {
   "cell_type": "code",
   "execution_count": 2,
   "outputs": [
    {
     "name": "stdout",
     "output_type": "stream",
     "text": [
      "Available variables in the model:\n",
      "['Block_away', 'Block_away_lag1', 'Block_away_lag2', 'Block_home', 'Block_home_lag1', 'Block_home_lag2', 'DReb_Rate_away', 'DReb_Rate_away_lag1', 'DReb_Rate_away_lag2', 'DReb_Rate_home', 'DReb_Rate_home_lag1', 'DReb_Rate_home_lag2', 'E_OFF_RATING_PERCENTILE_BUCKET_away', 'E_OFF_RATING_PERCENTILE_BUCKET_away_lag1', 'E_OFF_RATING_PERCENTILE_BUCKET_away_lag2', 'E_OFF_RATING_PERCENTILE_BUCKET_home', 'E_OFF_RATING_PERCENTILE_BUCKET_home_lag1', 'E_OFF_RATING_PERCENTILE_BUCKET_home_lag2', 'Ejection_away', 'Ejection_away_lag1', 'Ejection_away_lag2', 'Ejection_home', 'Ejection_home_lag1', 'Ejection_home_lag2', 'EndQuarter', 'EndQuarter_lag1', 'EndQuarter_lag2', 'EndQuarter_lag3', 'FT_Attmpt_PerP_away', 'FT_Attmpt_PerP_away_lag1', 'FT_Attmpt_PerP_away_lag2', 'FT_Attmpt_PerP_home', 'FT_Attmpt_PerP_home_lag1', 'FT_Attmpt_PerP_home_lag2', 'FT_Efficiency_away', 'FT_Efficiency_away_lag1', 'FT_Efficiency_away_lag2', 'FT_Efficiency_home', 'FT_Efficiency_home_lag1', 'FT_Efficiency_home_lag2', 'FastBreak_PerOppMiss_away', 'FastBreak_PerOppMiss_away_lag1', 'FastBreak_PerOppMiss_away_lag2', 'FastBreak_PerOppMiss_home', 'FastBreak_PerOppMiss_home_lag1', 'FastBreak_PerOppMiss_home_lag2', 'FastBreak_Rate_away', 'FastBreak_Rate_away_lag1', 'FastBreak_Rate_away_lag2', 'FastBreak_Rate_home', 'FastBreak_Rate_home_lag1', 'FastBreak_Rate_home_lag2', 'Flagrant_Foul_away', 'Flagrant_Foul_away_lag1', 'Flagrant_Foul_away_lag2', 'Flagrant_Foul_home', 'Flagrant_Foul_home_lag1', 'Flagrant_Foul_home_lag2', 'Instant_Replay', 'Instant_Replay_lag1', 'Instant_Replay_lag2', 'Off_Foul_away', 'Off_Foul_away_lag1', 'Off_Foul_away_lag2', 'Off_Foul_home', 'Off_Foul_home_lag1', 'Off_Foul_home_lag2', 'PCT_FGA_2PT_PERCENTILE_BUCKET_away', 'PCT_FGA_2PT_PERCENTILE_BUCKET_away_lag1', 'PCT_FGA_2PT_PERCENTILE_BUCKET_away_lag2', 'PCT_FGA_2PT_PERCENTILE_BUCKET_home', 'PCT_FGA_2PT_PERCENTILE_BUCKET_home_lag1', 'PCT_FGA_2PT_PERCENTILE_BUCKET_home_lag2', 'Pers_Foul_away', 'Pers_Foul_away_lag1', 'Pers_Foul_away_lag2', 'Pers_Foul_home', 'Pers_Foul_home_lag1', 'Pers_Foul_home_lag2', 'Pers_InPenalty_Foul_away', 'Pers_InPenalty_Foul_away_lag1', 'Pers_InPenalty_Foul_away_lag2', 'Pers_InPenalty_Foul_away_lag3', 'Pers_InPenalty_Foul_home', 'Pers_InPenalty_Foul_home_lag1', 'Pers_InPenalty_Foul_home_lag2', 'Pers_InPenalty_Foul_home_lag3', 'Pers_Shooting_Foul_away', 'Pers_Shooting_Foul_away_lag1', 'Pers_Shooting_Foul_away_lag2', 'Pers_Shooting_Foul_home', 'Pers_Shooting_Foul_home_lag1', 'Pers_Shooting_Foul_home_lag2', 'REB_PCT_PERCENTILE_BUCKET_away', 'REB_PCT_PERCENTILE_BUCKET_away_lag1', 'REB_PCT_PERCENTILE_BUCKET_away_lag2', 'REB_PCT_PERCENTILE_BUCKET_home', 'REB_PCT_PERCENTILE_BUCKET_home_lag1', 'REB_PCT_PERCENTILE_BUCKET_home_lag2', 'Shooting_Efficiency_away', 'Shooting_Efficiency_away_lag1', 'Shooting_Efficiency_away_lag2', 'Shooting_Efficiency_home', 'Shooting_Efficiency_home_lag1', 'Shooting_Efficiency_home_lag2', 'Shot_2ndChnc_PerP_away', 'Shot_2ndChnc_PerP_away_lag1', 'Shot_2ndChnc_PerP_away_lag2', 'Shot_2ndChnc_PerP_home', 'Shot_2ndChnc_PerP_home_lag1', 'Shot_2ndChnc_PerP_home_lag2', 'Shot_Make_Assisted_Rate_away', 'Shot_Make_Assisted_Rate_away_lag1', 'Shot_Make_Assisted_Rate_away_lag2', 'Shot_Make_Assisted_Rate_home', 'Shot_Make_Assisted_Rate_home_lag1', 'Shot_Make_Assisted_Rate_home_lag2', 'Shots_PerP_away', 'Shots_PerP_away_lag1', 'Shots_PerP_away_lag2', 'Shots_PerP_home', 'Shots_PerP_home_lag1', 'Shots_PerP_home_lag2', 'Steal_away', 'Steal_away_lag1', 'Steal_away_lag2', 'Steal_home', 'Steal_home_lag1', 'Steal_home_lag2', 'Timeout_Team_away', 'Timeout_Team_away_lag1', 'Timeout_Team_away_lag2', 'Timeout_Team_away_lag3', 'Timeout_Team_home', 'Timeout_Team_home_lag1', 'Timeout_Team_home_lag2', 'Timeout_Team_home_lag3', 'Turnover_PerP_away', 'Turnover_PerP_away_lag1', 'Turnover_PerP_away_lag2', 'Turnover_PerP_home', 'Turnover_PerP_home_lag1', 'Turnover_PerP_home_lag2', 'X2pt_Efficiency_away', 'X2pt_Efficiency_away_lag1', 'X2pt_Efficiency_away_lag2', 'X2pt_Efficiency_home', 'X2pt_Efficiency_home_lag1', 'X2pt_Efficiency_home_lag2', 'X2pt_MidRng_Rate_away', 'X2pt_MidRng_Rate_away_lag1', 'X2pt_MidRng_Rate_away_lag2', 'X2pt_MidRng_Rate_away_lag3', 'X2pt_MidRng_Rate_home', 'X2pt_MidRng_Rate_home_lag1', 'X2pt_MidRng_Rate_home_lag2', 'X2pt_MidRng_Rate_home_lag3', 'X2pt_Paint_Rate_away', 'X2pt_Paint_Rate_away_lag1', 'X2pt_Paint_Rate_away_lag2', 'X2pt_Paint_Rate_home', 'X2pt_Paint_Rate_home_lag1', 'X2pt_Paint_Rate_home_lag2', 'X2pt_Rate_away', 'X2pt_Rate_away_lag1', 'X2pt_Rate_away_lag2', 'X2pt_Rate_home', 'X2pt_Rate_home_lag1', 'X2pt_Rate_home_lag2', 'X3pt_Efficiency_away', 'X3pt_Efficiency_away_lag1', 'X3pt_Efficiency_away_lag2', 'X3pt_Efficiency_home', 'X3pt_Efficiency_home_lag1', 'X3pt_Efficiency_home_lag2', 'X3pt_Rate_away', 'X3pt_Rate_away_lag1', 'X3pt_Rate_away_lag2', 'X3pt_Rate_home', 'X3pt_Rate_home_lag1', 'X3pt_Rate_home_lag2', 'away_momentum0.05', 'away_momentum0.05_lag1', 'away_momentum0.05_lag2', 'away_momentum0.05_lag3', 'away_momentum0.07', 'away_momentum0.07_lag1', 'away_momentum0.07_lag2', 'home_momentum0.05', 'home_momentum0.05_lag1', 'home_momentum0.05_lag2', 'home_momentum0.05_lag3', 'home_momentum0.07', 'home_momentum0.07_lag1', 'home_momentum0.07_lag2', 'lineup_cluster_away', 'lineup_cluster_away_lag1', 'lineup_cluster_away_lag2', 'lineup_cluster_away_lag3', 'lineup_cluster_home', 'lineup_cluster_home_lag1', 'lineup_cluster_home_lag2', 'lineup_cluster_home_lag3', 'momentum_category', 'momentum_category_lag1', 'momentum_category_lag2', 'momentum_category_lag3', 'offense_poss_away', 'offense_poss_away_lag1', 'offense_poss_away_lag2', 'offense_poss_home', 'offense_poss_home_lag1', 'offense_poss_home_lag2']\n"
     ]
    }
   ],
   "source": [
    "# Inspect available variables from the model\n",
    "VE = infer.load_DBN_VE_engine()\n",
    "model = VE.model  # The underlying Bayesian model used by the inference engine\n",
    "\n",
    "# List all variable names\n",
    "print(\"Available variables in the model:\")\n",
    "print(sorted(model.nodes()))"
   ],
   "metadata": {
    "collapsed": false,
    "ExecuteTime": {
     "end_time": "2025-05-24T17:39:30.256521Z",
     "start_time": "2025-05-24T17:39:30.247658Z"
    }
   }
  },
  {
   "cell_type": "code",
   "execution_count": 23,
   "outputs": [
    {
     "name": "stdout",
     "output_type": "stream",
     "text": [
      "\n",
      "Levels (states) for selected variables:\n",
      "X2pt_Rate_away: [0, 1, 2, 3, 4]\n",
      "X2pt_Rate_home: [0, 1, 2, 3, 4]\n",
      "home_momentum0.05: [0, 1, 2]\n",
      "away_momentum0.05: [0, 1, 2]\n"
     ]
    }
   ],
   "source": [
    "# Extract variable levels from CPDs\n",
    "variable_levels = {\n",
    "    cpd.variable: cpd.state_names[cpd.variable]\n",
    "    for cpd in model.cpds\n",
    "        if cpd.state_names and cpd.variable in cpd.state_names\n",
    "}\n",
    "\n",
    "# Print the possible levels for a few example variables\n",
    "example_vars = ['X2pt_Rate_away', 'X2pt_Rate_home', 'home_momentum0.05', 'away_momentum0.05']\n",
    "print(\"\\nLevels (states) for selected variables:\")\n",
    "for var in example_vars:\n",
    "    if var in variable_levels:\n",
    "        print(f\"{var}: {variable_levels[var]}\")\n",
    "    else:\n",
    "        print(f\"{var}: not found in the model.\")"
   ],
   "metadata": {
    "collapsed": false,
    "ExecuteTime": {
     "end_time": "2025-05-24T17:21:37.696462Z",
     "start_time": "2025-05-24T17:21:37.693113Z"
    }
   }
  },
  {
   "cell_type": "markdown",
   "source": [
    "# Probabilistic Inference Example"
   ],
   "metadata": {
    "collapsed": false
   }
  },
  {
   "cell_type": "code",
   "execution_count": 6,
   "outputs": [],
   "source": [
    "# Load the probabilistic variable elimination inference engine\n",
    "VE = infer.load_DBN_VE_engine()"
   ],
   "metadata": {
    "collapsed": false,
    "ExecuteTime": {
     "end_time": "2025-05-24T17:41:19.439214Z",
     "start_time": "2025-05-24T17:41:19.430456Z"
    }
   }
  },
  {
   "cell_type": "code",
   "execution_count": 7,
   "outputs": [],
   "source": [
    "# Define a list of evidence scenarios to evaluate.\n",
    "# Each dictionary corresponds to a different evidence configuration.\n",
    "\n",
    "evidence_scenarios = [\n",
    "    {\"X2pt_Rate_away\": 0},           # Scenario 1: condition on a single value (exact match)\n",
    "    {\"X2pt_Rate_away\": [1, 2]},      # Scenario 2: OR condition — treat levels 1 or 2 as possible values\n",
    "    {\"X2pt_Rate_away\": 3, \"X2pt_Rate_home\": 0}  # Scenario 3: multiple exact conditions on two variables\n",
    "]"
   ],
   "metadata": {
    "collapsed": false,
    "ExecuteTime": {
     "end_time": "2025-05-24T17:41:19.853266Z",
     "start_time": "2025-05-24T17:41:19.849404Z"
    }
   }
  },
  {
   "cell_type": "code",
   "execution_count": 8,
   "outputs": [],
   "source": [
    "# Run probabilistic inference across all evidence scenarios.\n",
    "# This returns the probability distribution for each momentum variable for each observed evidence scenario.\n",
    "results = infer.batchProbabilisticInference(VE,\n",
    "                                            ['home_momentum0.05','away_momentum0.05'], # home and away momentum events with 0.05 explosivness threshold\n",
    "                                            evidence_scenarios,\n",
    "                                            elimination_order='greedy',\n",
    "                                            joint=False)"
   ],
   "metadata": {
    "collapsed": false,
    "ExecuteTime": {
     "end_time": "2025-05-24T17:41:22.979399Z",
     "start_time": "2025-05-24T17:41:20.419523Z"
    }
   }
  },
  {
   "cell_type": "code",
   "execution_count": 9,
   "outputs": [
    {
     "data": {
      "text/plain": "          target_node  target_level  target_probability  \\\n0   home_momentum0.05             0            0.779474   \n1   home_momentum0.05             1            0.190994   \n2   home_momentum0.05             2            0.029531   \n3   away_momentum0.05             0            0.834467   \n4   away_momentum0.05             1            0.147223   \n5   away_momentum0.05             2            0.018310   \n6   home_momentum0.05             0            0.800777   \n7   home_momentum0.05             1            0.175483   \n8   home_momentum0.05             2            0.023740   \n9   away_momentum0.05             0            0.831985   \n10  away_momentum0.05             1            0.150202   \n11  away_momentum0.05             2            0.017813   \n12  home_momentum0.05             0            0.825124   \n13  home_momentum0.05             1            0.155087   \n14  home_momentum0.05             2            0.019789   \n15  away_momentum0.05             0            0.790095   \n16  away_momentum0.05             1            0.182093   \n17  away_momentum0.05             2            0.027812   \n\n                                      evidence  \n0                        {'X2pt_Rate_away': 0}  \n1                        {'X2pt_Rate_away': 0}  \n2                        {'X2pt_Rate_away': 0}  \n3                        {'X2pt_Rate_away': 0}  \n4                        {'X2pt_Rate_away': 0}  \n5                        {'X2pt_Rate_away': 0}  \n6                   {'X2pt_Rate_away': [1, 2]}  \n7                   {'X2pt_Rate_away': [1, 2]}  \n8                   {'X2pt_Rate_away': [1, 2]}  \n9                   {'X2pt_Rate_away': [1, 2]}  \n10                  {'X2pt_Rate_away': [1, 2]}  \n11                  {'X2pt_Rate_away': [1, 2]}  \n12  {'X2pt_Rate_away': 3, 'X2pt_Rate_home': 0}  \n13  {'X2pt_Rate_away': 3, 'X2pt_Rate_home': 0}  \n14  {'X2pt_Rate_away': 3, 'X2pt_Rate_home': 0}  \n15  {'X2pt_Rate_away': 3, 'X2pt_Rate_home': 0}  \n16  {'X2pt_Rate_away': 3, 'X2pt_Rate_home': 0}  \n17  {'X2pt_Rate_away': 3, 'X2pt_Rate_home': 0}  ",
      "text/html": "<div>\n<style scoped>\n    .dataframe tbody tr th:only-of-type {\n        vertical-align: middle;\n    }\n\n    .dataframe tbody tr th {\n        vertical-align: top;\n    }\n\n    .dataframe thead th {\n        text-align: right;\n    }\n</style>\n<table border=\"1\" class=\"dataframe\">\n  <thead>\n    <tr style=\"text-align: right;\">\n      <th></th>\n      <th>target_node</th>\n      <th>target_level</th>\n      <th>target_probability</th>\n      <th>evidence</th>\n    </tr>\n  </thead>\n  <tbody>\n    <tr>\n      <th>0</th>\n      <td>home_momentum0.05</td>\n      <td>0</td>\n      <td>0.779474</td>\n      <td>{'X2pt_Rate_away': 0}</td>\n    </tr>\n    <tr>\n      <th>1</th>\n      <td>home_momentum0.05</td>\n      <td>1</td>\n      <td>0.190994</td>\n      <td>{'X2pt_Rate_away': 0}</td>\n    </tr>\n    <tr>\n      <th>2</th>\n      <td>home_momentum0.05</td>\n      <td>2</td>\n      <td>0.029531</td>\n      <td>{'X2pt_Rate_away': 0}</td>\n    </tr>\n    <tr>\n      <th>3</th>\n      <td>away_momentum0.05</td>\n      <td>0</td>\n      <td>0.834467</td>\n      <td>{'X2pt_Rate_away': 0}</td>\n    </tr>\n    <tr>\n      <th>4</th>\n      <td>away_momentum0.05</td>\n      <td>1</td>\n      <td>0.147223</td>\n      <td>{'X2pt_Rate_away': 0}</td>\n    </tr>\n    <tr>\n      <th>5</th>\n      <td>away_momentum0.05</td>\n      <td>2</td>\n      <td>0.018310</td>\n      <td>{'X2pt_Rate_away': 0}</td>\n    </tr>\n    <tr>\n      <th>6</th>\n      <td>home_momentum0.05</td>\n      <td>0</td>\n      <td>0.800777</td>\n      <td>{'X2pt_Rate_away': [1, 2]}</td>\n    </tr>\n    <tr>\n      <th>7</th>\n      <td>home_momentum0.05</td>\n      <td>1</td>\n      <td>0.175483</td>\n      <td>{'X2pt_Rate_away': [1, 2]}</td>\n    </tr>\n    <tr>\n      <th>8</th>\n      <td>home_momentum0.05</td>\n      <td>2</td>\n      <td>0.023740</td>\n      <td>{'X2pt_Rate_away': [1, 2]}</td>\n    </tr>\n    <tr>\n      <th>9</th>\n      <td>away_momentum0.05</td>\n      <td>0</td>\n      <td>0.831985</td>\n      <td>{'X2pt_Rate_away': [1, 2]}</td>\n    </tr>\n    <tr>\n      <th>10</th>\n      <td>away_momentum0.05</td>\n      <td>1</td>\n      <td>0.150202</td>\n      <td>{'X2pt_Rate_away': [1, 2]}</td>\n    </tr>\n    <tr>\n      <th>11</th>\n      <td>away_momentum0.05</td>\n      <td>2</td>\n      <td>0.017813</td>\n      <td>{'X2pt_Rate_away': [1, 2]}</td>\n    </tr>\n    <tr>\n      <th>12</th>\n      <td>home_momentum0.05</td>\n      <td>0</td>\n      <td>0.825124</td>\n      <td>{'X2pt_Rate_away': 3, 'X2pt_Rate_home': 0}</td>\n    </tr>\n    <tr>\n      <th>13</th>\n      <td>home_momentum0.05</td>\n      <td>1</td>\n      <td>0.155087</td>\n      <td>{'X2pt_Rate_away': 3, 'X2pt_Rate_home': 0}</td>\n    </tr>\n    <tr>\n      <th>14</th>\n      <td>home_momentum0.05</td>\n      <td>2</td>\n      <td>0.019789</td>\n      <td>{'X2pt_Rate_away': 3, 'X2pt_Rate_home': 0}</td>\n    </tr>\n    <tr>\n      <th>15</th>\n      <td>away_momentum0.05</td>\n      <td>0</td>\n      <td>0.790095</td>\n      <td>{'X2pt_Rate_away': 3, 'X2pt_Rate_home': 0}</td>\n    </tr>\n    <tr>\n      <th>16</th>\n      <td>away_momentum0.05</td>\n      <td>1</td>\n      <td>0.182093</td>\n      <td>{'X2pt_Rate_away': 3, 'X2pt_Rate_home': 0}</td>\n    </tr>\n    <tr>\n      <th>17</th>\n      <td>away_momentum0.05</td>\n      <td>2</td>\n      <td>0.027812</td>\n      <td>{'X2pt_Rate_away': 3, 'X2pt_Rate_home': 0}</td>\n    </tr>\n  </tbody>\n</table>\n</div>"
     },
     "execution_count": 9,
     "metadata": {},
     "output_type": "execute_result"
    }
   ],
   "source": [
    "# Interpretation of momentum variables:\n",
    "# For both 'home_momentum0.05' and 'away_momentum0.05':\n",
    "# - Level 0 indicates that no momentum event occurred.\n",
    "# - Level 1 corresponds to a momentum event whose duration falls between 0 and the 90th percentile.\n",
    "# - Level 2 indicates a momentum event in the top 10% of duration\n",
    "#\n",
    "# Recommended practice: To assess the overall probability of a momentum event occurring, sum the probabilities of levels 1 and 2.\n",
    "results"
   ],
   "metadata": {
    "collapsed": false,
    "ExecuteTime": {
     "end_time": "2025-05-24T17:41:23.357448Z",
     "start_time": "2025-05-24T17:41:23.328373Z"
    }
   }
  },
  {
   "cell_type": "markdown",
   "source": [
    "# Causal Inference Example"
   ],
   "metadata": {
    "collapsed": false
   }
  },
  {
   "cell_type": "code",
   "execution_count": 3,
   "outputs": [],
   "source": [
    "# Define intervention scenarios for causal inference.\n",
    "# Each dictionary contains:\n",
    "# - intervention_dict: variables to intervene on and the levels to fix them at.\n",
    "# - evidence_dict: optional observational evidence to condition on, holding certain variables fixed.\n",
    "#\n",
    "# Example:\n",
    "# - First scenario: Intervene to set 'X2pt_Efficiency_home' to level 1, with no additional evidence.\n",
    "# - Second scenario: Same intervention, but conditioned on observed evidence 'X2pt_Efficiency_away' being level 2.\n",
    "causal_inference_interventions =  [\n",
    "    {\"intervention_dict\": {'X2pt_Efficiency_home': 1}, \"evidence_dict\": None},\n",
    "    {\"intervention_dict\": {'X2pt_Efficiency_home': 1}, \"evidence_dict\": {'X2pt_Efficiency_away': 2}}\n",
    "    ]"
   ],
   "metadata": {
    "collapsed": false,
    "ExecuteTime": {
     "end_time": "2025-05-24T17:39:39.985563Z",
     "start_time": "2025-05-24T17:39:39.981017Z"
    }
   }
  },
  {
   "cell_type": "code",
   "execution_count": 4,
   "outputs": [
    {
     "name": "stderr",
     "output_type": "stream",
     "text": [
      "WARNING:pgmpy:Replacing existing CPD for X2pt_Efficiency_home\n",
      "WARNING:pgmpy:Replacing existing CPD for X2pt_Efficiency_home\n",
      "WARNING:pgmpy:Replacing existing CPD for X2pt_Efficiency_home\n",
      "WARNING:pgmpy:Replacing existing CPD for X2pt_Efficiency_home\n",
      "WARNING:pgmpy:Replacing existing CPD for X2pt_Efficiency_home\n"
     ]
    },
    {
     "name": "stdout",
     "output_type": "stream",
     "text": [
      "Loaded all 128 DBNs for causal inference.\n"
     ]
    },
    {
     "name": "stderr",
     "output_type": "stream",
     "text": [
      "WARNING:pgmpy:Replacing existing CPD for X2pt_Efficiency_home\n",
      "WARNING:pgmpy:Replacing existing CPD for X2pt_Efficiency_home\n",
      "WARNING:pgmpy:Replacing existing CPD for X2pt_Efficiency_home\n",
      "WARNING:pgmpy:Replacing existing CPD for X2pt_Efficiency_home\n",
      "WARNING:pgmpy:Replacing existing CPD for X2pt_Efficiency_home\n",
      "WARNING:pgmpy:Replacing existing CPD for X2pt_Efficiency_home\n",
      "WARNING:pgmpy:Replacing existing CPD for X2pt_Efficiency_home\n",
      "WARNING:pgmpy:Replacing existing CPD for X2pt_Efficiency_home\n",
      "WARNING:pgmpy:Replacing existing CPD for X2pt_Efficiency_home\n",
      "WARNING:pgmpy:Replacing existing CPD for X2pt_Efficiency_home\n",
      "WARNING:pgmpy:Replacing existing CPD for X2pt_Efficiency_home\n",
      "WARNING:pgmpy:Replacing existing CPD for X2pt_Efficiency_home\n",
      "WARNING:pgmpy:Replacing existing CPD for X2pt_Efficiency_home\n",
      "WARNING:pgmpy:Replacing existing CPD for X2pt_Efficiency_home\n",
      "WARNING:pgmpy:Replacing existing CPD for X2pt_Efficiency_home\n",
      "WARNING:pgmpy:Replacing existing CPD for X2pt_Efficiency_home\n",
      "WARNING:pgmpy:Replacing existing CPD for X2pt_Efficiency_home\n",
      "WARNING:pgmpy:Replacing existing CPD for X2pt_Efficiency_home\n",
      "WARNING:pgmpy:Replacing existing CPD for X2pt_Efficiency_home\n",
      "WARNING:pgmpy:Replacing existing CPD for X2pt_Efficiency_home\n",
      "WARNING:pgmpy:Replacing existing CPD for X2pt_Efficiency_home\n",
      "WARNING:pgmpy:Replacing existing CPD for X2pt_Efficiency_home\n",
      "WARNING:pgmpy:Replacing existing CPD for X2pt_Efficiency_home\n",
      "WARNING:pgmpy:Replacing existing CPD for X2pt_Efficiency_home\n",
      "WARNING:pgmpy:Replacing existing CPD for X2pt_Efficiency_home\n",
      "WARNING:pgmpy:Replacing existing CPD for X2pt_Efficiency_home\n",
      "WARNING:pgmpy:Replacing existing CPD for X2pt_Efficiency_home\n",
      "WARNING:pgmpy:Replacing existing CPD for X2pt_Efficiency_home\n",
      "WARNING:pgmpy:Replacing existing CPD for X2pt_Efficiency_home\n",
      "WARNING:pgmpy:Replacing existing CPD for X2pt_Efficiency_home\n",
      "WARNING:pgmpy:Replacing existing CPD for X2pt_Efficiency_home\n",
      "WARNING:pgmpy:Replacing existing CPD for X2pt_Efficiency_home\n",
      "WARNING:pgmpy:Replacing existing CPD for X2pt_Efficiency_home\n",
      "WARNING:pgmpy:Replacing existing CPD for X2pt_Efficiency_home\n",
      "WARNING:pgmpy:Replacing existing CPD for X2pt_Efficiency_home\n",
      "WARNING:pgmpy:Replacing existing CPD for X2pt_Efficiency_home\n",
      "WARNING:pgmpy:Replacing existing CPD for X2pt_Efficiency_home\n",
      "WARNING:pgmpy:Replacing existing CPD for X2pt_Efficiency_home\n",
      "WARNING:pgmpy:Replacing existing CPD for X2pt_Efficiency_home\n",
      "WARNING:pgmpy:Replacing existing CPD for X2pt_Efficiency_home\n",
      "WARNING:pgmpy:Replacing existing CPD for X2pt_Efficiency_home\n",
      "WARNING:pgmpy:Replacing existing CPD for X2pt_Efficiency_home\n",
      "WARNING:pgmpy:Replacing existing CPD for X2pt_Efficiency_home\n",
      "WARNING:pgmpy:Replacing existing CPD for X2pt_Efficiency_home\n",
      "WARNING:pgmpy:Replacing existing CPD for X2pt_Efficiency_home\n",
      "WARNING:pgmpy:Replacing existing CPD for X2pt_Efficiency_home\n",
      "WARNING:pgmpy:Replacing existing CPD for X2pt_Efficiency_home\n",
      "WARNING:pgmpy:Replacing existing CPD for X2pt_Efficiency_home\n",
      "WARNING:pgmpy:Replacing existing CPD for X2pt_Efficiency_home\n",
      "WARNING:pgmpy:Replacing existing CPD for X2pt_Efficiency_home\n",
      "WARNING:pgmpy:Replacing existing CPD for X2pt_Efficiency_home\n",
      "WARNING:pgmpy:Replacing existing CPD for X2pt_Efficiency_home\n",
      "WARNING:pgmpy:Replacing existing CPD for X2pt_Efficiency_home\n",
      "WARNING:pgmpy:Replacing existing CPD for X2pt_Efficiency_home\n",
      "WARNING:pgmpy:Replacing existing CPD for X2pt_Efficiency_home\n",
      "WARNING:pgmpy:Replacing existing CPD for X2pt_Efficiency_home\n",
      "WARNING:pgmpy:Replacing existing CPD for X2pt_Efficiency_home\n",
      "WARNING:pgmpy:Replacing existing CPD for X2pt_Efficiency_home\n",
      "WARNING:pgmpy:Replacing existing CPD for X2pt_Efficiency_home\n",
      "WARNING:pgmpy:Replacing existing CPD for X2pt_Efficiency_home\n",
      "WARNING:pgmpy:Replacing existing CPD for X2pt_Efficiency_home\n",
      "WARNING:pgmpy:Replacing existing CPD for X2pt_Efficiency_home\n",
      "WARNING:pgmpy:Replacing existing CPD for X2pt_Efficiency_home\n",
      "WARNING:pgmpy:Replacing existing CPD for X2pt_Efficiency_home\n",
      "WARNING:pgmpy:Replacing existing CPD for X2pt_Efficiency_home\n",
      "WARNING:pgmpy:Replacing existing CPD for X2pt_Efficiency_home\n",
      "WARNING:pgmpy:Replacing existing CPD for X2pt_Efficiency_home\n",
      "WARNING:pgmpy:Replacing existing CPD for X2pt_Efficiency_home\n",
      "WARNING:pgmpy:Replacing existing CPD for X2pt_Efficiency_home\n",
      "WARNING:pgmpy:Replacing existing CPD for X2pt_Efficiency_home\n",
      "WARNING:pgmpy:Replacing existing CPD for X2pt_Efficiency_home\n",
      "WARNING:pgmpy:Replacing existing CPD for X2pt_Efficiency_home\n",
      "WARNING:pgmpy:Replacing existing CPD for X2pt_Efficiency_home\n",
      "WARNING:pgmpy:Replacing existing CPD for X2pt_Efficiency_home\n",
      "WARNING:pgmpy:Replacing existing CPD for X2pt_Efficiency_home\n",
      "WARNING:pgmpy:Replacing existing CPD for X2pt_Efficiency_home\n",
      "WARNING:pgmpy:Replacing existing CPD for X2pt_Efficiency_home\n",
      "WARNING:pgmpy:Replacing existing CPD for X2pt_Efficiency_home\n",
      "WARNING:pgmpy:Replacing existing CPD for X2pt_Efficiency_home\n",
      "WARNING:pgmpy:Replacing existing CPD for X2pt_Efficiency_home\n",
      "WARNING:pgmpy:Replacing existing CPD for X2pt_Efficiency_home\n",
      "WARNING:pgmpy:Replacing existing CPD for X2pt_Efficiency_home\n",
      "WARNING:pgmpy:Replacing existing CPD for X2pt_Efficiency_home\n",
      "WARNING:pgmpy:Replacing existing CPD for X2pt_Efficiency_home\n",
      "WARNING:pgmpy:Replacing existing CPD for X2pt_Efficiency_home\n",
      "WARNING:pgmpy:Replacing existing CPD for X2pt_Efficiency_home\n",
      "WARNING:pgmpy:Replacing existing CPD for X2pt_Efficiency_home\n",
      "WARNING:pgmpy:Replacing existing CPD for X2pt_Efficiency_home\n",
      "WARNING:pgmpy:Replacing existing CPD for X2pt_Efficiency_home\n",
      "WARNING:pgmpy:Replacing existing CPD for X2pt_Efficiency_home\n",
      "WARNING:pgmpy:Replacing existing CPD for X2pt_Efficiency_home\n",
      "WARNING:pgmpy:Replacing existing CPD for X2pt_Efficiency_home\n",
      "WARNING:pgmpy:Replacing existing CPD for X2pt_Efficiency_home\n",
      "WARNING:pgmpy:Replacing existing CPD for X2pt_Efficiency_home\n",
      "WARNING:pgmpy:Replacing existing CPD for X2pt_Efficiency_home\n",
      "WARNING:pgmpy:Replacing existing CPD for X2pt_Efficiency_home\n",
      "WARNING:pgmpy:Replacing existing CPD for X2pt_Efficiency_home\n",
      "WARNING:pgmpy:Replacing existing CPD for X2pt_Efficiency_home\n",
      "WARNING:pgmpy:Replacing existing CPD for X2pt_Efficiency_home\n",
      "WARNING:pgmpy:Replacing existing CPD for X2pt_Efficiency_home\n",
      "WARNING:pgmpy:Replacing existing CPD for X2pt_Efficiency_home\n",
      "WARNING:pgmpy:Replacing existing CPD for X2pt_Efficiency_home\n",
      "WARNING:pgmpy:Replacing existing CPD for X2pt_Efficiency_home\n",
      "WARNING:pgmpy:Replacing existing CPD for X2pt_Efficiency_home\n",
      "WARNING:pgmpy:Replacing existing CPD for X2pt_Efficiency_home\n",
      "WARNING:pgmpy:Replacing existing CPD for X2pt_Efficiency_home\n",
      "WARNING:pgmpy:Replacing existing CPD for X2pt_Efficiency_home\n",
      "WARNING:pgmpy:Replacing existing CPD for X2pt_Efficiency_home\n",
      "WARNING:pgmpy:Replacing existing CPD for X2pt_Efficiency_home\n",
      "WARNING:pgmpy:Replacing existing CPD for X2pt_Efficiency_home\n",
      "WARNING:pgmpy:Replacing existing CPD for X2pt_Efficiency_home\n",
      "WARNING:pgmpy:Replacing existing CPD for X2pt_Efficiency_home\n",
      "WARNING:pgmpy:Replacing existing CPD for X2pt_Efficiency_home\n",
      "WARNING:pgmpy:Replacing existing CPD for X2pt_Efficiency_home\n",
      "WARNING:pgmpy:Replacing existing CPD for X2pt_Efficiency_home\n",
      "WARNING:pgmpy:Replacing existing CPD for X2pt_Efficiency_home\n",
      "WARNING:pgmpy:Replacing existing CPD for X2pt_Efficiency_home\n",
      "WARNING:pgmpy:Replacing existing CPD for X2pt_Efficiency_home\n",
      "WARNING:pgmpy:Replacing existing CPD for X2pt_Efficiency_home\n",
      "WARNING:pgmpy:Replacing existing CPD for X2pt_Efficiency_home\n",
      "WARNING:pgmpy:Replacing existing CPD for X2pt_Efficiency_home\n",
      "WARNING:pgmpy:Replacing existing CPD for X2pt_Efficiency_home\n",
      "WARNING:pgmpy:Replacing existing CPD for X2pt_Efficiency_home\n",
      "WARNING:pgmpy:Replacing existing CPD for X2pt_Efficiency_home\n",
      "WARNING:pgmpy:Replacing existing CPD for X2pt_Efficiency_home\n",
      "WARNING:pgmpy:Replacing existing CPD for X2pt_Efficiency_home\n",
      "WARNING:pgmpy:Replacing existing CPD for X2pt_Efficiency_home\n",
      "WARNING:pgmpy:Replacing existing CPD for X2pt_Efficiency_home\n",
      "WARNING:pgmpy:Replacing existing CPD for X2pt_Efficiency_home\n",
      "WARNING:pgmpy:Replacing existing CPD for X2pt_Efficiency_home\n",
      "WARNING:pgmpy:Replacing existing CPD for X2pt_Efficiency_home\n",
      "WARNING:pgmpy:Replacing existing CPD for X2pt_Efficiency_home\n",
      "WARNING:pgmpy:Replacing existing CPD for X2pt_Efficiency_home\n"
     ]
    },
    {
     "name": "stdout",
     "output_type": "stream",
     "text": [
      "Loaded all 128 DBNs for causal inference.\n"
     ]
    },
    {
     "name": "stderr",
     "output_type": "stream",
     "text": [
      "WARNING:pgmpy:Replacing existing CPD for X2pt_Efficiency_home\n",
      "WARNING:pgmpy:Replacing existing CPD for X2pt_Efficiency_home\n",
      "WARNING:pgmpy:Replacing existing CPD for X2pt_Efficiency_home\n",
      "WARNING:pgmpy:Replacing existing CPD for X2pt_Efficiency_home\n",
      "WARNING:pgmpy:Replacing existing CPD for X2pt_Efficiency_home\n",
      "WARNING:pgmpy:Replacing existing CPD for X2pt_Efficiency_home\n",
      "WARNING:pgmpy:Replacing existing CPD for X2pt_Efficiency_home\n",
      "WARNING:pgmpy:Replacing existing CPD for X2pt_Efficiency_home\n",
      "WARNING:pgmpy:Replacing existing CPD for X2pt_Efficiency_home\n",
      "WARNING:pgmpy:Replacing existing CPD for X2pt_Efficiency_home\n",
      "WARNING:pgmpy:Replacing existing CPD for X2pt_Efficiency_home\n",
      "WARNING:pgmpy:Replacing existing CPD for X2pt_Efficiency_home\n",
      "WARNING:pgmpy:Replacing existing CPD for X2pt_Efficiency_home\n",
      "WARNING:pgmpy:Replacing existing CPD for X2pt_Efficiency_home\n",
      "WARNING:pgmpy:Replacing existing CPD for X2pt_Efficiency_home\n",
      "WARNING:pgmpy:Replacing existing CPD for X2pt_Efficiency_home\n",
      "WARNING:pgmpy:Replacing existing CPD for X2pt_Efficiency_home\n",
      "WARNING:pgmpy:Replacing existing CPD for X2pt_Efficiency_home\n",
      "WARNING:pgmpy:Replacing existing CPD for X2pt_Efficiency_home\n",
      "WARNING:pgmpy:Replacing existing CPD for X2pt_Efficiency_home\n",
      "WARNING:pgmpy:Replacing existing CPD for X2pt_Efficiency_home\n",
      "WARNING:pgmpy:Replacing existing CPD for X2pt_Efficiency_home\n",
      "WARNING:pgmpy:Replacing existing CPD for X2pt_Efficiency_home\n",
      "WARNING:pgmpy:Replacing existing CPD for X2pt_Efficiency_home\n",
      "WARNING:pgmpy:Replacing existing CPD for X2pt_Efficiency_home\n",
      "WARNING:pgmpy:Replacing existing CPD for X2pt_Efficiency_home\n",
      "WARNING:pgmpy:Replacing existing CPD for X2pt_Efficiency_home\n",
      "WARNING:pgmpy:Replacing existing CPD for X2pt_Efficiency_home\n",
      "WARNING:pgmpy:Replacing existing CPD for X2pt_Efficiency_home\n",
      "WARNING:pgmpy:Replacing existing CPD for X2pt_Efficiency_home\n",
      "WARNING:pgmpy:Replacing existing CPD for X2pt_Efficiency_home\n",
      "WARNING:pgmpy:Replacing existing CPD for X2pt_Efficiency_home\n",
      "WARNING:pgmpy:Replacing existing CPD for X2pt_Efficiency_home\n",
      "WARNING:pgmpy:Replacing existing CPD for X2pt_Efficiency_home\n",
      "WARNING:pgmpy:Replacing existing CPD for X2pt_Efficiency_home\n",
      "WARNING:pgmpy:Replacing existing CPD for X2pt_Efficiency_home\n",
      "WARNING:pgmpy:Replacing existing CPD for X2pt_Efficiency_home\n",
      "WARNING:pgmpy:Replacing existing CPD for X2pt_Efficiency_home\n",
      "WARNING:pgmpy:Replacing existing CPD for X2pt_Efficiency_home\n",
      "WARNING:pgmpy:Replacing existing CPD for X2pt_Efficiency_home\n",
      "WARNING:pgmpy:Replacing existing CPD for X2pt_Efficiency_home\n",
      "WARNING:pgmpy:Replacing existing CPD for X2pt_Efficiency_home\n",
      "WARNING:pgmpy:Replacing existing CPD for X2pt_Efficiency_home\n",
      "WARNING:pgmpy:Replacing existing CPD for X2pt_Efficiency_home\n",
      "WARNING:pgmpy:Replacing existing CPD for X2pt_Efficiency_home\n",
      "WARNING:pgmpy:Replacing existing CPD for X2pt_Efficiency_home\n",
      "WARNING:pgmpy:Replacing existing CPD for X2pt_Efficiency_home\n",
      "WARNING:pgmpy:Replacing existing CPD for X2pt_Efficiency_home\n",
      "WARNING:pgmpy:Replacing existing CPD for X2pt_Efficiency_home\n",
      "WARNING:pgmpy:Replacing existing CPD for X2pt_Efficiency_home\n",
      "WARNING:pgmpy:Replacing existing CPD for X2pt_Efficiency_home\n",
      "WARNING:pgmpy:Replacing existing CPD for X2pt_Efficiency_home\n",
      "WARNING:pgmpy:Replacing existing CPD for X2pt_Efficiency_home\n",
      "WARNING:pgmpy:Replacing existing CPD for X2pt_Efficiency_home\n",
      "WARNING:pgmpy:Replacing existing CPD for X2pt_Efficiency_home\n",
      "WARNING:pgmpy:Replacing existing CPD for X2pt_Efficiency_home\n",
      "WARNING:pgmpy:Replacing existing CPD for X2pt_Efficiency_home\n",
      "WARNING:pgmpy:Replacing existing CPD for X2pt_Efficiency_home\n",
      "WARNING:pgmpy:Replacing existing CPD for X2pt_Efficiency_home\n",
      "WARNING:pgmpy:Replacing existing CPD for X2pt_Efficiency_home\n",
      "WARNING:pgmpy:Replacing existing CPD for X2pt_Efficiency_home\n",
      "WARNING:pgmpy:Replacing existing CPD for X2pt_Efficiency_home\n",
      "WARNING:pgmpy:Replacing existing CPD for X2pt_Efficiency_home\n",
      "WARNING:pgmpy:Replacing existing CPD for X2pt_Efficiency_home\n",
      "WARNING:pgmpy:Replacing existing CPD for X2pt_Efficiency_home\n",
      "WARNING:pgmpy:Replacing existing CPD for X2pt_Efficiency_home\n",
      "WARNING:pgmpy:Replacing existing CPD for X2pt_Efficiency_home\n",
      "WARNING:pgmpy:Replacing existing CPD for X2pt_Efficiency_home\n",
      "WARNING:pgmpy:Replacing existing CPD for X2pt_Efficiency_home\n",
      "WARNING:pgmpy:Replacing existing CPD for X2pt_Efficiency_home\n",
      "WARNING:pgmpy:Replacing existing CPD for X2pt_Efficiency_home\n",
      "WARNING:pgmpy:Replacing existing CPD for X2pt_Efficiency_home\n",
      "WARNING:pgmpy:Replacing existing CPD for X2pt_Efficiency_home\n",
      "WARNING:pgmpy:Replacing existing CPD for X2pt_Efficiency_home\n",
      "WARNING:pgmpy:Replacing existing CPD for X2pt_Efficiency_home\n",
      "WARNING:pgmpy:Replacing existing CPD for X2pt_Efficiency_home\n",
      "WARNING:pgmpy:Replacing existing CPD for X2pt_Efficiency_home\n",
      "WARNING:pgmpy:Replacing existing CPD for X2pt_Efficiency_home\n",
      "WARNING:pgmpy:Replacing existing CPD for X2pt_Efficiency_home\n",
      "WARNING:pgmpy:Replacing existing CPD for X2pt_Efficiency_home\n",
      "WARNING:pgmpy:Replacing existing CPD for X2pt_Efficiency_home\n",
      "WARNING:pgmpy:Replacing existing CPD for X2pt_Efficiency_home\n",
      "WARNING:pgmpy:Replacing existing CPD for X2pt_Efficiency_home\n",
      "WARNING:pgmpy:Replacing existing CPD for X2pt_Efficiency_home\n",
      "WARNING:pgmpy:Replacing existing CPD for X2pt_Efficiency_home\n",
      "WARNING:pgmpy:Replacing existing CPD for X2pt_Efficiency_home\n",
      "WARNING:pgmpy:Replacing existing CPD for X2pt_Efficiency_home\n",
      "WARNING:pgmpy:Replacing existing CPD for X2pt_Efficiency_home\n",
      "WARNING:pgmpy:Replacing existing CPD for X2pt_Efficiency_home\n",
      "WARNING:pgmpy:Replacing existing CPD for X2pt_Efficiency_home\n",
      "WARNING:pgmpy:Replacing existing CPD for X2pt_Efficiency_home\n",
      "WARNING:pgmpy:Replacing existing CPD for X2pt_Efficiency_home\n",
      "WARNING:pgmpy:Replacing existing CPD for X2pt_Efficiency_home\n",
      "WARNING:pgmpy:Replacing existing CPD for X2pt_Efficiency_home\n",
      "WARNING:pgmpy:Replacing existing CPD for X2pt_Efficiency_home\n",
      "WARNING:pgmpy:Replacing existing CPD for X2pt_Efficiency_home\n",
      "WARNING:pgmpy:Replacing existing CPD for X2pt_Efficiency_home\n",
      "WARNING:pgmpy:Replacing existing CPD for X2pt_Efficiency_home\n",
      "WARNING:pgmpy:Replacing existing CPD for X2pt_Efficiency_home\n",
      "WARNING:pgmpy:Replacing existing CPD for X2pt_Efficiency_home\n",
      "WARNING:pgmpy:Replacing existing CPD for X2pt_Efficiency_home\n",
      "WARNING:pgmpy:Replacing existing CPD for X2pt_Efficiency_home\n",
      "WARNING:pgmpy:Replacing existing CPD for X2pt_Efficiency_home\n",
      "WARNING:pgmpy:Replacing existing CPD for X2pt_Efficiency_home\n",
      "WARNING:pgmpy:Replacing existing CPD for X2pt_Efficiency_home\n",
      "WARNING:pgmpy:Replacing existing CPD for X2pt_Efficiency_home\n",
      "WARNING:pgmpy:Replacing existing CPD for X2pt_Efficiency_home\n",
      "WARNING:pgmpy:Replacing existing CPD for X2pt_Efficiency_home\n",
      "WARNING:pgmpy:Replacing existing CPD for X2pt_Efficiency_home\n",
      "WARNING:pgmpy:Replacing existing CPD for X2pt_Efficiency_home\n",
      "WARNING:pgmpy:Replacing existing CPD for X2pt_Efficiency_home\n",
      "WARNING:pgmpy:Replacing existing CPD for X2pt_Efficiency_home\n",
      "WARNING:pgmpy:Replacing existing CPD for X2pt_Efficiency_home\n",
      "WARNING:pgmpy:Replacing existing CPD for X2pt_Efficiency_home\n",
      "WARNING:pgmpy:Replacing existing CPD for X2pt_Efficiency_home\n",
      "WARNING:pgmpy:Replacing existing CPD for X2pt_Efficiency_home\n",
      "WARNING:pgmpy:Replacing existing CPD for X2pt_Efficiency_home\n",
      "WARNING:pgmpy:Replacing existing CPD for X2pt_Efficiency_home\n"
     ]
    }
   ],
   "source": [
    "causal_results = infer.batchCausalInferenceAllDAGs( ['home_momentum0.05','away_momentum0.05'],\n",
    "                                                    causal_inference_interventions,\n",
    "                                                    elimination_order='greedy',\n",
    "                                                    joint=False)"
   ],
   "metadata": {
    "collapsed": false,
    "ExecuteTime": {
     "end_time": "2025-05-24T17:39:51.011134Z",
     "start_time": "2025-05-24T17:39:40.500253Z"
    }
   }
  },
  {
   "cell_type": "code",
   "execution_count": 5,
   "outputs": [
    {
     "data": {
      "text/plain": "            target_node  target_level  target_probability  \\\n0     home_momentum0.05             0            0.859621   \n1     home_momentum0.05             1            0.128514   \n2     home_momentum0.05             2            0.011865   \n3     away_momentum0.05             0            0.782012   \n4     away_momentum0.05             1            0.191190   \n...                 ...           ...                 ...   \n1531  home_momentum0.05             1            0.125514   \n1532  home_momentum0.05             2            0.010292   \n1533  away_momentum0.05             0            0.800962   \n1534  away_momentum0.05             1            0.178060   \n1535  away_momentum0.05             2            0.020978   \n\n                         evidence  dag_number                 intervention  \n0                            None          50  {'X2pt_Efficiency_home': 1}  \n1                            None          50  {'X2pt_Efficiency_home': 1}  \n2                            None          50  {'X2pt_Efficiency_home': 1}  \n3                            None          50  {'X2pt_Efficiency_home': 1}  \n4                            None          50  {'X2pt_Efficiency_home': 1}  \n...                           ...         ...                          ...  \n1531  {'X2pt_Efficiency_away': 2}         114  {'X2pt_Efficiency_home': 1}  \n1532  {'X2pt_Efficiency_away': 2}         114  {'X2pt_Efficiency_home': 1}  \n1533  {'X2pt_Efficiency_away': 2}         114  {'X2pt_Efficiency_home': 1}  \n1534  {'X2pt_Efficiency_away': 2}         114  {'X2pt_Efficiency_home': 1}  \n1535  {'X2pt_Efficiency_away': 2}         114  {'X2pt_Efficiency_home': 1}  \n\n[1536 rows x 6 columns]",
      "text/html": "<div>\n<style scoped>\n    .dataframe tbody tr th:only-of-type {\n        vertical-align: middle;\n    }\n\n    .dataframe tbody tr th {\n        vertical-align: top;\n    }\n\n    .dataframe thead th {\n        text-align: right;\n    }\n</style>\n<table border=\"1\" class=\"dataframe\">\n  <thead>\n    <tr style=\"text-align: right;\">\n      <th></th>\n      <th>target_node</th>\n      <th>target_level</th>\n      <th>target_probability</th>\n      <th>evidence</th>\n      <th>dag_number</th>\n      <th>intervention</th>\n    </tr>\n  </thead>\n  <tbody>\n    <tr>\n      <th>0</th>\n      <td>home_momentum0.05</td>\n      <td>0</td>\n      <td>0.859621</td>\n      <td>None</td>\n      <td>50</td>\n      <td>{'X2pt_Efficiency_home': 1}</td>\n    </tr>\n    <tr>\n      <th>1</th>\n      <td>home_momentum0.05</td>\n      <td>1</td>\n      <td>0.128514</td>\n      <td>None</td>\n      <td>50</td>\n      <td>{'X2pt_Efficiency_home': 1}</td>\n    </tr>\n    <tr>\n      <th>2</th>\n      <td>home_momentum0.05</td>\n      <td>2</td>\n      <td>0.011865</td>\n      <td>None</td>\n      <td>50</td>\n      <td>{'X2pt_Efficiency_home': 1}</td>\n    </tr>\n    <tr>\n      <th>3</th>\n      <td>away_momentum0.05</td>\n      <td>0</td>\n      <td>0.782012</td>\n      <td>None</td>\n      <td>50</td>\n      <td>{'X2pt_Efficiency_home': 1}</td>\n    </tr>\n    <tr>\n      <th>4</th>\n      <td>away_momentum0.05</td>\n      <td>1</td>\n      <td>0.191190</td>\n      <td>None</td>\n      <td>50</td>\n      <td>{'X2pt_Efficiency_home': 1}</td>\n    </tr>\n    <tr>\n      <th>...</th>\n      <td>...</td>\n      <td>...</td>\n      <td>...</td>\n      <td>...</td>\n      <td>...</td>\n      <td>...</td>\n    </tr>\n    <tr>\n      <th>1531</th>\n      <td>home_momentum0.05</td>\n      <td>1</td>\n      <td>0.125514</td>\n      <td>{'X2pt_Efficiency_away': 2}</td>\n      <td>114</td>\n      <td>{'X2pt_Efficiency_home': 1}</td>\n    </tr>\n    <tr>\n      <th>1532</th>\n      <td>home_momentum0.05</td>\n      <td>2</td>\n      <td>0.010292</td>\n      <td>{'X2pt_Efficiency_away': 2}</td>\n      <td>114</td>\n      <td>{'X2pt_Efficiency_home': 1}</td>\n    </tr>\n    <tr>\n      <th>1533</th>\n      <td>away_momentum0.05</td>\n      <td>0</td>\n      <td>0.800962</td>\n      <td>{'X2pt_Efficiency_away': 2}</td>\n      <td>114</td>\n      <td>{'X2pt_Efficiency_home': 1}</td>\n    </tr>\n    <tr>\n      <th>1534</th>\n      <td>away_momentum0.05</td>\n      <td>1</td>\n      <td>0.178060</td>\n      <td>{'X2pt_Efficiency_away': 2}</td>\n      <td>114</td>\n      <td>{'X2pt_Efficiency_home': 1}</td>\n    </tr>\n    <tr>\n      <th>1535</th>\n      <td>away_momentum0.05</td>\n      <td>2</td>\n      <td>0.020978</td>\n      <td>{'X2pt_Efficiency_away': 2}</td>\n      <td>114</td>\n      <td>{'X2pt_Efficiency_home': 1}</td>\n    </tr>\n  </tbody>\n</table>\n<p>1536 rows × 6 columns</p>\n</div>"
     },
     "execution_count": 5,
     "metadata": {},
     "output_type": "execute_result"
    }
   ],
   "source": [
    "# Causal query results for all 128 I-equivalent dags\n",
    "causal_results"
   ],
   "metadata": {
    "collapsed": false,
    "ExecuteTime": {
     "end_time": "2025-05-24T17:40:42.371358Z",
     "start_time": "2025-05-24T17:40:42.356840Z"
    }
   }
  },
  {
   "cell_type": "code",
   "execution_count": null,
   "outputs": [],
   "source": [],
   "metadata": {
    "collapsed": false
   }
  }
 ],
 "metadata": {
  "kernelspec": {
   "display_name": "Python 3",
   "language": "python",
   "name": "python3"
  },
  "language_info": {
   "codemirror_mode": {
    "name": "ipython",
    "version": 2
   },
   "file_extension": ".py",
   "mimetype": "text/x-python",
   "name": "python",
   "nbconvert_exporter": "python",
   "pygments_lexer": "ipython2",
   "version": "2.7.6"
  }
 },
 "nbformat": 4,
 "nbformat_minor": 0
}
